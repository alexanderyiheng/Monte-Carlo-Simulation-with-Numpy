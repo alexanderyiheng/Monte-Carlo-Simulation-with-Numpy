{
 "cells": [
  {
   "cell_type": "markdown",
   "metadata": {},
   "source": [
    "# Monte Carlo Simulation Example\n",
    "\n",
    "A firm is considering producing and selling a new product under a pure/perfect competition market and the firm wants to know the probability distribution for the profit associated with this product. \n",
    "\n",
    "The total profit is given by the equation:\n",
    "\n",
    "TP = (Q X P) - (Q X V + F)\n",
    "\n",
    "where TP is the Total Profit, Q is the Quantity Sold, P is the Selling Price, V is the Variable Cost and F is the Fixed Cost. \n",
    "\n",
    "Since the firm is predicting what will happen if they produce the product, some of the profit components are uncertain. In particuler, Q, P and V are estimated to be random variables with the following distributions:\n",
    "\n",
    "- Q: uniform (8000,12000)\n",
    "- P: normal (10,3)\n",
    "- V: normal (7,2)\n",
    "\n",
    "F is fixed at 5000.\n",
    "\n",
    "The goal is to use Monte Carlo Simulation to estimate various descriptive statistics about the total profit associated with the product (if the project were undertaken) and to ultimately provide information to aid a decision-maker in deciding whether or not to pursue the project"
   ]
  },
  {
   "cell_type": "code",
   "execution_count": 1,
   "metadata": {},
   "outputs": [],
   "source": [
    "import numpy as np\n",
    "import matplotlib.pyplot as plt"
   ]
  },
  {
   "cell_type": "code",
   "execution_count": 28,
   "metadata": {},
   "outputs": [
    {
     "name": "stdout",
     "output_type": "stream",
     "text": [
      "Expected Value from 1,000,000 replication: 24,992.88\n"
     ]
    },
    {
     "data": {
      "image/png": "[encoded data removed]",
      "text/plain": [
       "<Figure size 640x480 with 1 Axes>"
      ]
     },
     "metadata": {},
     "output_type": "display_data"
    }
   ],
   "source": [
    "# Nummber of obersevations\n",
    "obs = 1000_000\n",
    "\n",
    "# Generate input vectors\n",
    "fixed = 5000\n",
    "\n",
    "price = np.random.normal(10, 3, obs)\n",
    "\n",
    "marginal = np.random.normal(7, 2, obs)\n",
    "\n",
    "demand = np.random.uniform(8000, 12000, obs)\n",
    "\n",
    "# Compute the expected profit for each replication (using vector operations)\n",
    "tp = demand * (price - marginal) - fixed\n",
    "\n",
    "# Basic display of the results\n",
    "print(f\"Expected Value from {obs:,d} replication: {np.mean(tp):,.2f}\")\n",
    "\n",
    "plt.figure()\n",
    "plt.hist(tp)\n",
    "plt.show()"
   ]
  },
  {
   "cell_type": "code",
   "execution_count": 29,
   "metadata": {},
   "outputs": [
    {
     "name": "stdout",
     "output_type": "stream",
     "text": [
      "Expected Profit: 24,992.88\n",
      "Standard Deviation: 36,424.73\n",
      "25th Percentile: 576.52\n",
      "75th Percentile: 48,948.31\n",
      "Probability of Losing Money: 0.2448\n",
      "Probability of Winning Money > $100,000: 0.0220\n"
     ]
    }
   ],
   "source": [
    "print(f\"Expected Profit: {tp.mean():,.2f}\")\n",
    "print(f\"Standard Deviation: {tp.std():,.2f}\")\n",
    "print(f\"25th Percentile: {np.percentile(tp,25):,.2f}\")\n",
    "print(f\"75th Percentile: {np.percentile(tp,75):,.2f}\")\n",
    "print(f\"Probability of Losing Money: {np.sum(tp<0)/obs:,.4f}\")\n",
    "print(f\"Probability of Winning Money > $100,000: {np.sum(tp>100_000)/obs:,.4f}\")"
   ]
  },
  {
   "cell_type": "markdown",
   "metadata": {},
   "source": [
    "# Aggregate the Individual Arrays into A Single Experiment"
   ]
  },
  {
   "cell_type": "code",
   "execution_count": 34,
   "metadata": {},
   "outputs": [
    {
     "data": {
      "text/plain": [
       "((1000000, 1), (1000000, 1), (1000000, 1), (1000000, 1))"
      ]
     },
     "execution_count": 34,
     "metadata": {},
     "output_type": "execute_result"
    }
   ],
   "source": [
    "# Create 4 single-column arrays\n",
    "p = price.reshape(obs,1)\n",
    "m = marginal.reshape(obs,1)\n",
    "d = demand.reshape(obs,1)\n",
    "pr = tp.reshape(obs,1)\n",
    "p.shape, m.shape, d.shape, pr.shape"
   ]
  },
  {
   "cell_type": "code",
   "execution_count": 37,
   "metadata": {},
   "outputs": [
    {
     "data": {
      "text/plain": [
       "(1000000, 4)"
      ]
     },
     "execution_count": 37,
     "metadata": {},
     "output_type": "execute_result"
    }
   ],
   "source": [
    "# Concat the four into a matrix \n",
    "a = np.concatenate([p,m,d,pr], axis=1)\n",
    "a.shape"
   ]
  },
  {
   "cell_type": "code",
   "execution_count": 38,
   "metadata": {},
   "outputs": [
    {
     "data": {
      "text/plain": [
       "array([1.00004887e+01, 7.00060986e+00, 9.99829245e+03, 2.49928753e+04])"
      ]
     },
     "execution_count": 38,
     "metadata": {},
     "output_type": "execute_result"
    }
   ],
   "source": [
    "a.mean(axis=0)"
   ]
  },
  {
   "cell_type": "code",
   "execution_count": null,
   "metadata": {},
   "outputs": [],
   "source": []
  }
 ],
 "metadata": {
  "kernelspec": {
   "display_name": "Python 3",
   "language": "python",
   "name": "python3"
  },
  "language_info": {
   "codemirror_mode": {
    "name": "ipython",
    "version": 3
   },
   "file_extension": ".py",
   "mimetype": "text/x-python",
   "name": "python",
   "nbconvert_exporter": "python",
   "pygments_lexer": "ipython3",
   "version": "3.11.4"
  }
 },
 "nbformat": 4,
 "nbformat_minor": 2
}
